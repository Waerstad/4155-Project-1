{
 "cells": [
  {
   "cell_type": "code",
   "execution_count": 4,
   "id": "59c75bdb",
   "metadata": {},
   "outputs": [
    {
     "ename": "SyntaxError",
     "evalue": "invalid syntax (876360890.py, line 8)",
     "output_type": "error",
     "traceback": [
      "\u001b[0;36m  Cell \u001b[0;32mIn[4], line 8\u001b[0;36m\u001b[0m\n\u001b[0;31m    from ../functions import Polynomial_Features\u001b[0m\n\u001b[0m           ^\u001b[0m\n\u001b[0;31mSyntaxError\u001b[0m\u001b[0;31m:\u001b[0m invalid syntax\n"
     ]
    }
   ],
   "source": [
    "import numpy as np\n",
    "from sklearn.preprocessing import StandardScaler\n",
    "from sklearn.model_selection import train_test_split\n",
    "from sklearn.metrics import mean_squared_error, r2_score\n",
    "import matplotlib.pyplot as plt\n",
    "import matplotlib as mpl\n",
    "\n",
    "from ../functions import Polynomial_Features\n",
    "from ../runge_function import Runge_func\n",
    "from ../OLS import OLS\n",
    "from ../Ridge import Ridge\n",
    "from ../LASSO import LASSO\n",
    "from ../plotting import set_plot_params"
   ]
  },
  {
   "cell_type": "markdown",
   "id": "5327b66e",
   "metadata": {},
   "source": [
    "### MSE and $R^2$ as a function of complexity"
   ]
  },
  {
   "cell_type": "code",
   "execution_count": 28,
   "id": "1cc18401",
   "metadata": {},
   "outputs": [],
   "source": [
    "\"\"\"\n",
    "Generates and saves the MSE for each polynomial degree between degree_min and degree_max.\n",
    "\"\"\"\n",
    "\n",
    "SAVE_NAME_MSE = \"../../output/gd_mse_vs_complexity.out\"\n",
    "SAVE_NAME_R2 = \"../../output/gd_r2_vs_complexity.out\"\n",
    "\n",
    "np.random.seed(2025)\n",
    "\n",
    "n=1000\n",
    "\n",
    "degree_min = 1\n",
    "degree_max = 15\n",
    "\n",
    "degrees = range(degree_min, degree_max+1)\n",
    "\n",
    "learning_rate = 0.001\n",
    "max_its = 10000\n",
    "\n",
    "x = np.linspace(-1,1, n)\n",
    "\n",
    "y_true = Runge_func(x)\n",
    "y_noisy = y_true + np.random.normal(0,0.1, n)\n",
    "\n",
    "\n",
    "X_unscaled = Polynomial_Features(x, degree_max)\n",
    "\n",
    "X_train, X_test, y_train, y_test = train_test_split(X_unscaled, y_noisy, test_size = 0.2)\n",
    "\n",
    "y_mean = y_train.mean()\n",
    "y_tr_centered = y_train - y_mean\n",
    "\n",
    "\n",
    "models = [OLS(\"simple\"), Ridge(\"simple\"), LASSO(\"simple\")]\n",
    "\n",
    "output_mse = np.zeros((len(degrees), len(models)+1), dtype = float)\n",
    "output_mse[:,0] = degrees\n",
    "\n",
    "output_r2 = np.zeros((len(degrees), len(models)+1), dtype = float)\n",
    "output_r2[:,0] = degrees\n",
    "\n",
    "for i, model in enumerate(models):\n",
    "    errors = np.zeros_like(degrees, dtype=float)\n",
    "    r2s = np.zeros_like(degrees, dtype=float)\n",
    "    for i_deg, deg in enumerate(degrees):\n",
    "        X_train_deg = X_train[:,:deg]\n",
    "        X_test_deg = X_test[:,:deg]\n",
    "        scaler = StandardScaler()\n",
    "        scaler.fit(X_train_deg)\n",
    "        X_train_scaled = scaler.transform(X_train_deg)\n",
    "        X_test_scaled = scaler.transform(X_test_deg)\n",
    "        # set precision = 0 so that GD never converges and stops at max_iter.\n",
    "        thetas, its_done, _ = model.fit(X_train_scaled, y_tr_centered, learning_rate = learning_rate ,max_iter = max_its, precision=0)\n",
    "        predict_test = X_test_scaled @ thetas + y_mean\n",
    "        errors[i_deg] = mean_squared_error(y_test, predict_test)\n",
    "        r2s[i_deg] = r2_score(y_test, predict_test)\n",
    "        #r2s[i_deg] = 1.0 - (np.sum((y_test - predict_test)**2)/(np.sum((y_test - np.mean(y_test))**2)))\n",
    "\n",
    "    output_mse[:,i+1] = errors\n",
    "    output_r2[:, i+1] = r2s\n",
    "\n",
    "header_mse_string = \"simple gd MSE, col0 Degree, col1 OLS, col2 Ridge, col3 LASSO.\"\n",
    "header_r2_string = \"simple gd R^2, col0 Degree, col1 OLS, col2 Ridge, col3 LASSO.\"\n",
    "\n",
    "np.savetxt(SAVE_NAME_MSE, output_mse, header = header_mse_string)\n",
    "np.savetxt(SAVE_NAME_R2, output_r2, header = header_r2_string)"
   ]
  },
  {
   "cell_type": "code",
   "execution_count": 29,
   "id": "9fef0484",
   "metadata": {},
   "outputs": [
    {
     "data": {
      "image/png": "[encoded data removed]",
      "text/plain": [
       "<Figure size 334.646x275.591 with 1 Axes>"
      ]
     },
     "metadata": {},
     "output_type": "display_data"
    }
   ],
   "source": [
    "FOLDER = \"../../figs/\"\n",
    "SAVE_NAME_MSE = \"gd_mse_vs_complexity\"\n",
    "FILE_NAME_MSE = \"../../output/gd_mse_vs_complexity.out\"\n",
    "\n",
    "SAVE_NAME_R2 = \"gd_r2_vs_complexity\"\n",
    "FILE_NAME_R2 = \"../../output/gd_r2_vs_complexity.out\"\n",
    "\n",
    "SAVE_NAME = \"gd_mse_r2_vs_complexity\"\n",
    "\n",
    "\n",
    "set_plot_params(1,1)\n",
    "colors = mpl.color_sequences[\"tab20b\"]\n",
    "\n",
    "capitalized_labels = [\n",
    "    \"OLS\",\n",
    "    \"Ridge\",\n",
    "    \"LASSO\",\n",
    "]\n",
    "\n",
    "mses_data = np.loadtxt(FILE_NAME_MSE, unpack=True)\n",
    "r2s_data = np.loadtxt(FILE_NAME_R2, unpack=True)\n",
    "\n",
    "degrees = mses_data[0]\n",
    "# plot gd mse from saved data\n",
    "for i, model_name in enumerate(capitalized_labels):\n",
    "    plt.plot(degrees, mses_data[i+1], label = model_name + \" MSE\", color = colors[4*i+2])\n",
    "    \n",
    "plt.ylabel(\"MSE\")\n",
    "plt.xlabel(\"Degree\")\n",
    "plt.xticks([1, 3, 5, 7, 9, 11, 13, 15])\n",
    "plt.grid(True, which=\"both\", linestyle=\"--\", linewidth=0.5)\n",
    "plt.legend(framealpha=1)\n",
    "plt.savefig(FOLDER + SAVE_NAME_MSE + \".pdf\")\n",
    "plt.show()"
   ]
  },
  {
   "cell_type": "code",
   "execution_count": 3,
   "id": "71d5116b",
   "metadata": {},
   "outputs": [
    {
     "ename": "NameError",
     "evalue": "name 'set_plot_params' is not defined",
     "output_type": "error",
     "traceback": [
      "\u001b[0;31m---------------------------------------------------------------------------\u001b[0m",
      "\u001b[0;31mNameError\u001b[0m                                 Traceback (most recent call last)",
      "Cell \u001b[0;32mIn[3], line 7\u001b[0m\n\u001b[1;32m      3\u001b[0m SAVE_NAME_R2 \u001b[38;5;241m=\u001b[39m \u001b[38;5;124m\"\u001b[39m\u001b[38;5;124mgd_r2_vs_complexity\u001b[39m\u001b[38;5;124m\"\u001b[39m\n\u001b[1;32m      4\u001b[0m FILE_NAME_R2 \u001b[38;5;241m=\u001b[39m \u001b[38;5;124m\"\u001b[39m\u001b[38;5;124m../../output/gd_r2_vs_complexity.out\u001b[39m\u001b[38;5;124m\"\u001b[39m\n\u001b[0;32m----> 7\u001b[0m \u001b[43mset_plot_params\u001b[49m(\u001b[38;5;241m1\u001b[39m,\u001b[38;5;241m1\u001b[39m)\n\u001b[1;32m      8\u001b[0m colors \u001b[38;5;241m=\u001b[39m mpl\u001b[38;5;241m.\u001b[39mcolor_sequences[\u001b[38;5;124m\"\u001b[39m\u001b[38;5;124mtab20b\u001b[39m\u001b[38;5;124m\"\u001b[39m]\n\u001b[1;32m     10\u001b[0m capitalized_labels \u001b[38;5;241m=\u001b[39m [\n\u001b[1;32m     11\u001b[0m     \u001b[38;5;124m\"\u001b[39m\u001b[38;5;124mOLS\u001b[39m\u001b[38;5;124m\"\u001b[39m,\n\u001b[1;32m     12\u001b[0m     \u001b[38;5;124m\"\u001b[39m\u001b[38;5;124mRidge\u001b[39m\u001b[38;5;124m\"\u001b[39m,\n\u001b[1;32m     13\u001b[0m     \u001b[38;5;124m\"\u001b[39m\u001b[38;5;124mLASSO\u001b[39m\u001b[38;5;124m\"\u001b[39m,\n\u001b[1;32m     14\u001b[0m ]\n",
      "\u001b[0;31mNameError\u001b[0m: name 'set_plot_params' is not defined"
     ]
    }
   ],
   "source": [
    "FOLDER = \"../../figs/\"\n",
    "\n",
    "SAVE_NAME_R2 = \"gd_r2_vs_complexity\"\n",
    "FILE_NAME_R2 = \"../../output/gd_r2_vs_complexity.out\"\n",
    "\n",
    "\n",
    "set_plot_params(1,1)\n",
    "colors = mpl.color_sequences[\"tab20b\"]\n",
    "\n",
    "capitalized_labels = [\n",
    "    \"OLS\",\n",
    "    \"Ridge\",\n",
    "    \"LASSO\",\n",
    "]\n",
    "\n",
    "mses_data = np.loadtxt(FILE_NAME_MSE, unpack=True)\n",
    "r2s_data = np.loadtxt(FILE_NAME_R2, unpack=True)\n",
    "\n",
    "degrees = mses_data[0]\n",
    "# plot gd r2 from saved data\n",
    "for i, model_name in enumerate(capitalized_labels):\n",
    "    plt.plot(degrees, r2s_data[i+1], label = model_name + r\" $R^2$\", linestyle=\"-\", color=colors[4*i+3])\n",
    "\n",
    "plt.ylabel(r\"$R^2$\")\n",
    "plt.xlabel(\"Degree\")\n",
    "plt.xticks([1, 3, 5, 7, 9, 11, 13, 15])\n",
    "plt.grid(True, which=\"both\", linestyle=\"--\", linewidth=0.5)\n",
    "plt.legend(framealpha=1)\n",
    "plt.savefig(FOLDER + SAVE_NAME_R2 + \".pdf\")\n",
    "plt.show()"
   ]
  },
  {
   "cell_type": "code",
   "execution_count": null,
   "id": "959fc450",
   "metadata": {},
   "outputs": [],
   "source": []
  }
 ],
 "metadata": {
  "kernelspec": {
   "display_name": "Python 3 (ipykernel)",
   "language": "python",
   "name": "python3"
  },
  "language_info": {
   "codemirror_mode": {
    "name": "ipython",
    "version": 3
   },
   "file_extension": ".py",
   "mimetype": "text/x-python",
   "name": "python",
   "nbconvert_exporter": "python",
   "pygments_lexer": "ipython3",
   "version": "3.12.3"
  }
 },
 "nbformat": 4,
 "nbformat_minor": 5
}
