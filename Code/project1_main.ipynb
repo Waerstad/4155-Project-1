{
 "cells": [
  {
   "cell_type": "markdown",
   "id": "b209e219",
   "metadata": {
    "editable": true
   },
   "source": [
    "<!-- HTML file automatically generated from DocOnce source (https://github.com/doconce/doconce/)\n",
    "doconce format html Project1.do.txt  -->\n",
    "<!-- dom:TITLE: Project 1 on Machine Learning, deadline October 6 (midnight), 2025 -->\n"
   ]
  },
  {
   "cell_type": "markdown",
   "id": "6fa4c4bc",
   "metadata": {
    "editable": true
   },
   "source": [
    "# Project 1 on Machine Learning, deadline October 6 (midnight), 2025\n",
    "\n",
    "**Data Analysis and Machine Learning FYS-STK3155/FYS4155**, University of Oslo, Norway\n",
    "\n",
    "Date: **September 2**\n"
   ]
  },
  {
   "cell_type": "markdown",
   "id": "beb333e3",
   "metadata": {},
   "source": [
    "### Deliverables\n",
    "\n",
    "First, join a group in canvas with your group partners. Pick an avaliable group for Project 1 in the \"People\" page.\n",
    "\n",
    "In canvas, deliver as a group and include:\n",
    "\n",
    "- A PDF of your report which follows the guidelines covered below and in the week 39 exercises. Additional requirements include:\n",
    "  - It should be around 5000 words, use the word counter in Overleaf for this.\n",
    "  - It should be around 10 pages long, not including references or appendices.\n",
    "  - It should include around 10-15 figures.\n",
    "- A comment linking to your github repository (or folder in one of your github repositories) for this project. The repository must include\n",
    "  - A PDF of the report\n",
    "  - A folder named Code, where you put python files for your functions and notebooks for reproducing your results. Remember to use a seed for generating random data and for train-test splits when generating final results.\n",
    "  - A README file with\n",
    "    - the name of the group members\n",
    "    - a short description of the project\n",
    "    - a description of how to install the required packages to run your code from a requirements.txt file\n",
    "    - names and descriptions of the various notebooks in the Code folder and the results they produce\n"
   ]
  },
  {
   "cell_type": "markdown",
   "id": "735b16c4",
   "metadata": {
    "editable": true
   },
   "source": [
    "## Preamble: Note on writing reports, using reference material, AI and other tools\n",
    "\n",
    "We want you to answer the three different projects by handing in\n",
    "reports written like a standard scientific/technical report. The\n",
    "links at\n",
    "<https://github.com/CompPhysics/MachineLearning/tree/master/doc/Projects>\n",
    "contain more information. There you can find examples of previous\n",
    "reports, the projects themselves, how we grade reports etc. How to\n",
    "write reports will also be discussed during the various lab\n",
    "sessions. Please do ask us if you are in doubt.\n",
    "\n",
    "When using codes and material from other sources, you should refer to\n",
    "these in the bibliography of your report, indicating wherefrom you for\n",
    "example got the code, whether this is from the lecture notes,\n",
    "softwares like Scikit-Learn, TensorFlow, PyTorch or other sources. These sources\n",
    "should always be cited correctly. How to cite some\n",
    "of the libraries is often indicated from their corresponding GitHub\n",
    "sites or websites, see for example how to cite Scikit-Learn at\n",
    "<https://scikit-learn.org/dev/about.html>.\n",
    "\n",
    "We enocurage you to use tools like\n",
    "[ChatGPT](https://openai.com/chatgpt/) or similar in writing the report. If you use for example ChatGPT,\n",
    "please do cite it properly and include (if possible) your questions and answers as an addition to the report. This can\n",
    "be uploaded to for example your website, GitHub/GitLab or similar as supplemental material.\n",
    "\n",
    "If you would like to study other data sets, feel free to propose other\n",
    "sets. What we have proposed here are mere suggestions from our\n",
    "side. If you opt for another data set, consider using a set which has\n",
    "been studied in the scientific literature. This makes it easier for\n",
    "you to compare and analyze your results. Comparing with existing\n",
    "results from the scientific literature is also an essential element of\n",
    "the scientific discussion. The University of California at Irvine\n",
    "with its Machine Learning repository at\n",
    "<https://archive.ics.uci.edu/ml/index.php> is an excellent site to\n",
    "look up for examples and\n",
    "inspiration. [Kaggle.com](https://www.kaggle.com/) is an equally\n",
    "interesting site. Feel free to explore these sites. When selecting\n",
    "other data sets, make sure these are sets used for regression problems\n",
    "(not classification).\n"
   ]
  },
  {
   "cell_type": "markdown",
   "id": "0b7956ca",
   "metadata": {
    "editable": true
   },
   "source": [
    "## Regression analysis and resampling methods\n",
    "\n",
    "The main aim of this project is to study in more detail various\n",
    "regression methods, including Ordinary Least Squares (OLS) reegression, Ridge regression and LASSO regression.\n",
    "In addition to the scientific part, in this course we want also to\n",
    "give you an experience in writing scientific reports.\n",
    "\n",
    "We will study how to fit polynomials to specific\n",
    "one-dimensional functions (feel free to replace the suggested function with more complicated ones).\n",
    "\n",
    "We will use Runge's function (see <https://en.wikipedia.org/wiki/Runge%27s_phenomenon> for a discussion). The one-dimensional function we will study is\n"
   ]
  },
  {
   "cell_type": "markdown",
   "id": "28ba3d22",
   "metadata": {
    "editable": true
   },
   "source": [
    "$$\n",
    "f(x) = \\frac{1}{1+25x^2}.\n",
    "$$\n"
   ]
  },
  {
   "cell_type": "markdown",
   "id": "9a3e10ba",
   "metadata": {
    "editable": true
   },
   "source": [
    "Our first step will be to perform an OLS regression analysis of this\n",
    "function, trying out a polynomial fit with an $x$ dependence of the\n",
    "form $[x,x^2,\\dots]$. You can use a uniform distribution to set up the\n",
    "arrays of values for $x \\in [-1,1]$, or alternatively use a fixed step size.\n",
    "Thereafter we will repeat many of the same steps when using the Ridge and Lasso regression methods,\n",
    "introducing thereby a dependence on the hyperparameter (penalty) $\\lambda$.\n",
    "\n",
    "We will also include bootstrap as a resampling technique in order to\n",
    "study the so-called **bias-variance tradeoff**. After that we will\n",
    "include the so-called cross-validation technique.\n"
   ]
  },
  {
   "cell_type": "code",
   "execution_count": 3,
   "id": "386a8f64",
   "metadata": {},
   "outputs": [],
   "source": [
    "# Imports\n",
    "import numpy as np\n",
    "import matplotlib.pyplot as plt\n",
    "\n",
    "from sklearn.model_selection import train_test_split\n",
    "from sklearn.metrics import mean_squared_error"
   ]
  },
  {
   "cell_type": "code",
   "execution_count": 4,
   "id": "c9d7b28b",
   "metadata": {},
   "outputs": [],
   "source": [
    "# Main function definition\n",
    "def Runge_func(x):\n",
    "    return 1.0/(1 + 25*x**2)"
   ]
  },
  {
   "cell_type": "markdown",
   "id": "8aa547a5",
   "metadata": {
    "editable": true
   },
   "source": [
    "### Part a : Ordinary Least Square (OLS) for the Runge function\n",
    "\n",
    "We will generate our own dataset for abovementioned function\n",
    "$\\mathrm{Runge}(x)$ function with $x\\in [-1,1]$. You should explore also the addition\n",
    "of an added stochastic noise to this function using the normal\n",
    "distribution $N(0,1)$.\n",
    "\n",
    "_Write your own code_ (using for example the pseudoinverse function **pinv** from **Numpy** ) and perform a standard **ordinary least square regression**\n",
    "analysis using polynomials in $x$ up to order $15$ or higher. Explore the dependence on the number of data points and the polynomial degree.\n",
    "\n",
    "Evaluate the mean Squared error (MSE)\n"
   ]
  },
  {
   "cell_type": "markdown",
   "id": "68fbf03d",
   "metadata": {
    "editable": true
   },
   "source": [
    "$$\n",
    "MSE(\\boldsymbol{y},\\tilde{\\boldsymbol{y}}) = \\frac{1}{n}\n",
    "\\sum_{i=0}^{n-1}(y_i-\\tilde{y}_i)^2,\n",
    "$$\n"
   ]
  },
  {
   "cell_type": "markdown",
   "id": "b49509bc",
   "metadata": {
    "editable": true
   },
   "source": [
    "and the $R^2$ score function. If $\\tilde{\\boldsymbol{y}}_i$ is the predicted\n",
    "value of the $i-th$ sample and $y_i$ is the corresponding true value,\n",
    "then the score $R^2$ is defined as\n"
   ]
  },
  {
   "cell_type": "markdown",
   "id": "0fa4ffc6",
   "metadata": {
    "editable": true
   },
   "source": [
    "$$\n",
    "R^2(\\boldsymbol{y}, \\tilde{\\boldsymbol{y}}) = 1 - \\frac{\\sum_{i=0}^{n - 1} (y_i - \\tilde{y}_i)^2}{\\sum_{i=0}^{n - 1} (y_i - \\bar{y})^2},\n",
    "$$\n"
   ]
  },
  {
   "cell_type": "markdown",
   "id": "ce462b32",
   "metadata": {
    "editable": true
   },
   "source": [
    "where we have defined the mean value of $\\boldsymbol{y}$ as\n"
   ]
  },
  {
   "cell_type": "markdown",
   "id": "a5fbef36",
   "metadata": {
    "editable": true
   },
   "source": [
    "$$\n",
    "\\bar{y} =  \\frac{1}{n} \\sum_{i=0}^{n - 1} y_i.\n",
    "$$\n"
   ]
  },
  {
   "cell_type": "markdown",
   "id": "a6afe9cb",
   "metadata": {
    "editable": true
   },
   "source": [
    "Plot the resulting scores (MSE and R$^2$) as functions of the polynomial degree (here up to polymial degree 15).\n",
    "Plot also the parameters $\\theta$ as you increase the order of the polynomial. Comment your results.\n",
    "\n",
    "Your code has to include a scaling/centering of the data (for example by\n",
    "subtracting the mean value), and\n",
    "a split of the data in training and test data. For the scaling you can\n",
    "either write your own code or use for example the function for\n",
    "splitting training data provided by the library **Scikit-Learn** (make\n",
    "sure you have installed it). This function is called\n",
    "$train\\_test\\_split$. **You should present a critical discussion of why and how you have scaled or not scaled the data**.\n",
    "\n",
    "It is normal in essentially all Machine Learning studies to split the\n",
    "data in a training set and a test set (eventually also an additional\n",
    "validation set). There\n",
    "is no explicit recipe for how much data should be included as training\n",
    "data and say test data. An accepted rule of thumb is to use\n",
    "approximately $2/3$ to $4/5$ of the data as training data.\n",
    "\n",
    "You can easily reuse the solutions to your exercises from week 35.\n",
    "See also the lecture slides from week 35 and week 36.\n",
    "\n",
    "On scaling, we recommend reading the following section from the scikit-learn software description, see <https://scikit-learn.org/stable/auto_examples/preprocessing/plot_all_scaling.html#plot-all-scaling-standard-scaler-section>.\n"
   ]
  },
  {
   "cell_type": "code",
   "execution_count": 144,
   "id": "5cdc6339",
   "metadata": {},
   "outputs": [],
   "source": [
    "# Setting up dataset\n",
    "n = 100\n",
    "x = np.linspace(-1, 1, n)\n",
    "y = Runge_func(x) + np.random.normal(0, 1, size=n)\n",
    "\n",
    "#plt.scatter(x,y)"
   ]
  },
  {
   "cell_type": "code",
   "execution_count": 145,
   "id": "d3d63e97",
   "metadata": {},
   "outputs": [],
   "source": [
    "def OLS_parameters(X, y):\n",
    "    \"\"\"\n",
    "    The closed form solution of least square optimization.\n",
    "    Take a feature matrix X, and a column vector y.\n",
    "    Return the parameters of OLS fit.\n",
    "    \"\"\"\n",
    "    # The inverse of matrix X, using .pinv in case X is not square\n",
    "    # The beta vector in: X @ beta = y, solved for beta\n",
    "    beta = np.linalg.pinv(X.T @ X) @ X.T @ y   \n",
    "    return beta\n",
    "\n",
    "def polynomial_features(x, p, intercept=False):\n",
    "    \"\"\"\n",
    "    Take an array of x values, and the desired polynomial degree p.\n",
    "    Create a feature (design) matrix with first column x**1, second column with x**2, and so on. I.e. the i-th column containing x**(i+1).\n",
    "    Intercept=True will turn the first column into ones, meaning the i-th column will contain the value x**(j).\n",
    "    \"\"\"\n",
    "    n = len(x)\n",
    "    if intercept  == True:\n",
    "        X = np.zeros((int(n), int(p + 1)))\n",
    "        for i in range(0, int(p+1)):\n",
    "            X[:, i] = x**i  # Create first column with only ones (since x**0 = 1), the intercept column\n",
    "    else:\n",
    "        X = np.zeros((int(n), int(p)))\n",
    "        for i in range(0, int(p)):\n",
    "            X[:, i] = x**(i+1)\n",
    "    \n",
    "    return X"
   ]
  },
  {
   "cell_type": "code",
   "execution_count": null,
   "id": "0f2b364d",
   "metadata": {},
   "outputs": [],
   "source": [
    "# We split once per sample size to make sure we are comparing model polynomial degree/model complexity, on the same data. Only variable changing is model complexity.\n",
    "# Could use cross validation as well\n",
    "\n",
    "data_sizes = np.array([100, 1000, 10000])    # note: might need som justification\n",
    "\n",
    "poly_min = 1\n",
    "poly_max = 15\n",
    "poly_degrees = np.arange(poly_min, poly_max + 1, 1)\n",
    "\n",
    "runs = 20\n",
    "MSEs_runs_datasize_polys_matrix = np.zeros([runs, len(data_sizes), len(poly_degrees)])\n",
    "R2s_runs_datasize_polys_matrix = np.zeros([runs, len(data_sizes), len(poly_degrees)])\n",
    "beta0s_runs_datasize_polys_matrix = np.zeros([runs, len(data_sizes), len(poly_degrees)])\n",
    "\n",
    "for i in range(runs):\n",
    "\n",
    "    for j in range(len(data_sizes)):\n",
    "        n_j = data_sizes[j]\n",
    "        x = np.linspace(-1, 1, n_j)\n",
    "        y = Runge_func(x) + np.random.normal(0, 1, size=n_j)\n",
    "        # NEED SCALING HERE\n",
    "        x_train, x_test, y_train, y_test = train_test_split(x, y, test_size=0.2)\n",
    "\n",
    "        for k in range(len(poly_degrees)):\n",
    "            X_train_poly = polynomial_features(x_train, poly_degrees[k], intercept=True)\n",
    "            beta_poly = OLS_parameters(X_train_poly, y_train)\n",
    "\n",
    "            X_test_poly = polynomial_features(x_test, poly_degrees[k], intercept=True)\n",
    "            predict_y_test_poly = X_test_poly @ beta_poly\n",
    "\n",
    "            beta0s_runs_datasize_polys_matrix[i,j,k] = beta_poly[1]\n",
    "            MSEs_runs_datasize_polys_matrix[i,j,k] = mean_squared_error(y_test, predict_y_test_poly)\n",
    "            R2s_runs_datasize_polys_matrix[i,j,k] = 1.0 - (np.sum((y_test - predict_y_test_poly)**2)/(np.sum((y_test - np.mean(y_test))**2))) #R2\n",
    "\n",
    "mean_MSE_datasize_poly = np.mean(MSEs_runs_datasize_polys_matrix, axis=0)\n",
    "mean_R2_runs_datasize_polys_matrix = np.mean(R2s_runs_datasize_polys_matrix, axis=0)\n",
    "mean_beta0s_runs_datasize_polys_matrix = np.mean(beta0s_runs_datasize_polys_matrix, axis=0)"
   ]
  },
  {
   "cell_type": "code",
   "execution_count": 192,
   "id": "b5f69713",
   "metadata": {},
   "outputs": [
    {
     "name": "stdout",
     "output_type": "stream",
     "text": [
      "(3, 15)\n"
     ]
    },
    {
     "data": {
      "text/plain": [
       "Text(0.5, 1.0, 'Beta evolution')"
      ]
     },
     "execution_count": 192,
     "metadata": {},
     "output_type": "execute_result"
    },
    {
     "data": {
      "image/png": "[encoded data removed]",
      "text/plain": [
       "<Figure size 640x480 with 1 Axes>"
      ]
     },
     "metadata": {},
     "output_type": "display_data"
    }
   ],
   "source": [
    "print(np.shape(np.mean(beta0s_runs_datasize_polys_matrix, axis=0)))\n",
    "mean_beta = np.mean(beta0s_runs_datasize_polys_matrix, axis=0)\n",
    "plt.plot(mean_beta[0,:])\n",
    "plt.plot(mean_beta[1,:])\n",
    "plt.plot(mean_beta[2,:])\n",
    "plt.title(\"Beta evolution\")"
   ]
  },
  {
   "cell_type": "code",
   "execution_count": null,
   "id": "4c039ddf",
   "metadata": {},
   "outputs": [
    {
     "data": {
      "image/png": "[encoded data removed]",
      "text/plain": [
       "<Figure size 640x480 with 1 Axes>"
      ]
     },
     "metadata": {},
     "output_type": "display_data"
    },
    {
     "data": {
      "image/png": "[encoded data removed]",
      "text/plain": [
       "<Figure size 640x480 with 1 Axes>"
      ]
     },
     "metadata": {},
     "output_type": "display_data"
    },
    {
     "name": "stderr",
     "output_type": "stream",
     "text": [
      "C:\\Users\\jom_j\\AppData\\Local\\Temp\\ipykernel_10196\\1843242882.py:25: UserWarning: No artists with labels found to put in legend.  Note that artists whose label start with an underscore are ignored when legend() is called with no argument.\n",
      "  plt.legend()\n"
     ]
    },
    {
     "data": {
      "image/png": "[encoded data removed]",
      "text/plain": [
       "<Figure size 640x480 with 1 Axes>"
      ]
     },
     "metadata": {},
     "output_type": "display_data"
    }
   ],
   "source": [
    "plt.plot(mean_MSE_datasize_poly[0,:], \"o-\", label=f\"{data_sizes[0]} data points\")\n",
    "plt.plot(mean_MSE_datasize_poly[1,:], \"o-\", label=f\"{data_sizes[1]} data points\")\n",
    "plt.plot(mean_MSE_datasize_poly[2,:], \"o-\", label=f\"{data_sizes[2]} data points\")\n",
    "plt.title(f\"OLS prediction for test data, averaged over {runs} runs\")\n",
    "plt.xlabel(\"Polynomial degree\")\n",
    "plt.ylabel(\"MSE\")\n",
    "plt.legend()\n",
    "plt.show()\n",
    "plt.close()\n",
    "\n",
    "plt.plot(mean_R2_runs_datasize_polys_matrix[0,:], \"o-\", label=f\"{data_sizes[0]} data points\")\n",
    "plt.plot(mean_R2_runs_datasize_polys_matrix[1,:], \"o-\", label=f\"{data_sizes[1]} data points\")\n",
    "plt.plot(mean_R2_runs_datasize_polys_matrix[2,:], \"o-\", label=f\"{data_sizes[2]} data points\")\n",
    "plt.title(f\"OLS prediction for test data, averaged over {runs} runs\")\n",
    "plt.xlabel(\"Polynomial degree\")\n",
    "plt.ylabel(r\"$R^{2}$\")\n",
    "plt.legend()\n",
    "plt.show()\n",
    "plt.close()\n",
    "\n",
    "plt.plot(mean_beta0s_runs_datasize_polys_matrix[])\n",
    "plt.title(f\"OLS Beta0, averaged over {runs} runs\")\n",
    "plt.xlabel(\"Polynomial degree\")\n",
    "#plt.ylabel(r\"$R^{2}$\")\n",
    "plt.legend()\n",
    "plt.show()\n",
    "plt.close()\n"
   ]
  },
  {
   "cell_type": "markdown",
   "id": "3be10f68",
   "metadata": {
    "editable": true
   },
   "source": [
    "### Part b: Adding Ridge regression for the Runge function\n",
    "\n",
    "Write your own code for the Ridge method as done in the previous\n",
    "exercise. The lecture notes from week 35 and 36 contain more information. Furthermore, the results from the exercise set from week 36 is something you can reuse here.\n",
    "\n",
    "Perform the same analysis as you did in the previous exercise but now for different values of $\\lambda$. Compare and\n",
    "analyze your results with those obtained in part a) with the OLS method. Study the\n",
    "dependence on $\\lambda$.\n"
   ]
  },
  {
   "cell_type": "markdown",
   "id": "caa7909c",
   "metadata": {
    "editable": true
   },
   "source": [
    "### Part c: Writing your own gradient descent code\n",
    "\n",
    "Replace now the analytical expressions for the optimal parameters\n",
    "$\\boldsymbol{\\theta}$ with your own gradient descent code. In this exercise we\n",
    "focus only on the simplest gradient descent approach with a fixed\n",
    "learning rate (see the exercises from week 37 and the lecture notes\n",
    "from week 36).\n",
    "\n",
    "Study and compare your results from parts a) and b) with your gradient\n",
    "descent approch. Discuss in particular the role of the learning rate.\n"
   ]
  },
  {
   "cell_type": "markdown",
   "id": "3aac4df1",
   "metadata": {
    "editable": true
   },
   "source": [
    "### Part d: Including momentum and more advanced ways to update the learning the rate\n",
    "\n",
    "We keep our focus on OLS and Ridge regression and update our code for\n",
    "the gradient descent method by including **momentum**, **ADAgrad**,\n",
    "**RMSprop** and **ADAM** as methods fro iteratively updating your learning\n",
    "rate. Discuss the results and compare the different methods applied to\n",
    "the one-dimensional Runge function. The lecture notes from week 37 contain several examples on how to implement these methods.\n"
   ]
  },
  {
   "cell_type": "markdown",
   "id": "d0862a53",
   "metadata": {
    "editable": true
   },
   "source": [
    "### Part e: Writing our own code for Lasso regression\n",
    "\n",
    "LASSO regression (see lecture slides from week 36 and week 37)\n",
    "represents our first encounter with a machine learning method which\n",
    "cannot be solved through analytical expressions (as in OLS and Ridge regression). Use the gradient\n",
    "descent methods you developed in parts c) and d) to solve the LASSO\n",
    "optimization problem. You can compare your results with\n",
    "the functionalities of **Scikit-Learn**.\n",
    "\n",
    "Discuss (critically) your results for the Runge function from OLS,\n",
    "Ridge and LASSO regression using the various gradient descent\n",
    "approaches.\n"
   ]
  },
  {
   "cell_type": "markdown",
   "id": "9170032e",
   "metadata": {
    "editable": true
   },
   "source": [
    "### Part f: Stochastic gradient descent\n",
    "\n",
    "Our last gradient step is to include stochastic gradient descent using\n",
    "the same methods to update the learning rates as in parts c-e).\n",
    "Compare and discuss your results with and without stochastic gradient\n",
    "and give a critical assessment of the various methods.\n"
   ]
  },
  {
   "cell_type": "markdown",
   "id": "bacd1035",
   "metadata": {
    "editable": true
   },
   "source": [
    "### Part g: Bias-variance trade-off and resampling techniques\n",
    "\n",
    "Our aim here is to study the bias-variance trade-off by implementing\n",
    "the **bootstrap** resampling technique. **We will only use the simpler\n",
    "ordinary least squares here**.\n",
    "\n",
    "With a code which does OLS and includes resampling techniques,\n",
    "we will now discuss the bias-variance trade-off in the context of\n",
    "continuous predictions such as regression. However, many of the\n",
    "intuitions and ideas discussed here also carry over to classification\n",
    "tasks and basically all Machine Learning algorithms.\n",
    "\n",
    "Before you perform an analysis of the bias-variance trade-off on your\n",
    "test data, make first a figure similar to Fig. 2.11 of Hastie,\n",
    "Tibshirani, and Friedman. Figure 2.11 of this reference displays only\n",
    "the test and training MSEs. The test MSE can be used to indicate\n",
    "possible regions of low/high bias and variance. You will most likely\n",
    "not get an equally smooth curve! You may also need to increase the\n",
    "polynomial order and play around with the number of data points as\n",
    "well (see also the exercise set from week 35).\n",
    "\n",
    "With this result we move on to the bias-variance trade-off analysis.\n",
    "\n",
    "Consider a\n",
    "dataset $\\mathcal{L}$ consisting of the data\n",
    "$\\mathbf{X}_\\mathcal{L}=\\{(y_j, \\boldsymbol{x}_j), j=0\\ldots n-1\\}$.\n",
    "\n",
    "We assume that the true data is generated from a noisy model\n"
   ]
  },
  {
   "cell_type": "markdown",
   "id": "b871ec69",
   "metadata": {
    "editable": true
   },
   "source": [
    "$$\n",
    "\\boldsymbol{y}=f(\\boldsymbol{x}) + \\boldsymbol{\\epsilon}.\n",
    "$$\n"
   ]
  },
  {
   "cell_type": "markdown",
   "id": "b47c19bc",
   "metadata": {
    "editable": true
   },
   "source": [
    "Here $\\epsilon$ is normally distributed with mean zero and standard\n",
    "deviation $\\sigma^2$.\n",
    "\n",
    "In our derivation of the ordinary least squares method we defined then\n",
    "an approximation to the function $f$ in terms of the parameters\n",
    "$\\boldsymbol{\\theta}$ and the design matrix $\\boldsymbol{X}$ which embody our model,\n",
    "that is $\\boldsymbol{\\tilde{y}}=\\boldsymbol{X}\\boldsymbol{\\theta}$.\n",
    "\n",
    "The parameters $\\boldsymbol{\\theta}$ are in turn found by optimizing the mean\n",
    "squared error via the so-called cost function\n"
   ]
  },
  {
   "cell_type": "markdown",
   "id": "6db622c2",
   "metadata": {
    "editable": true
   },
   "source": [
    "$$\n",
    "C(\\boldsymbol{X},\\boldsymbol{\\theta}) =\\frac{1}{n}\\sum_{i=0}^{n-1}(y_i-\\tilde{y}_i)^2=\\mathbb{E}\\left[(\\boldsymbol{y}-\\boldsymbol{\\tilde{y}})^2\\right].\n",
    "$$\n"
   ]
  },
  {
   "cell_type": "markdown",
   "id": "5a7eb70d",
   "metadata": {
    "editable": true
   },
   "source": [
    "Here the expected value $\\mathbb{E}$ is the sample value.\n",
    "\n",
    "Show that you can rewrite this in terms of a term which contains the\n",
    "variance of the model itself (the so-called variance term), a term\n",
    "which measures the deviation from the true data and the mean value of\n",
    "the model (the bias term) and finally the variance of the noise.\n",
    "\n",
    "That is, show that\n"
   ]
  },
  {
   "cell_type": "markdown",
   "id": "d50292fe",
   "metadata": {
    "editable": true
   },
   "source": [
    "$$\n",
    "\\mathbb{E}\\left[(\\boldsymbol{y}-\\boldsymbol{\\tilde{y}})^2\\right]=\\mathrm{Bias}[\\tilde{y}]+\\mathrm{var}[\\tilde{y}]+\\sigma^2,\n",
    "$$\n"
   ]
  },
  {
   "cell_type": "markdown",
   "id": "50fa641f",
   "metadata": {
    "editable": true
   },
   "source": [
    "with (we approximate $f(\\boldsymbol{x})\\approx \\boldsymbol{y}$)\n"
   ]
  },
  {
   "cell_type": "markdown",
   "id": "2bd429c9",
   "metadata": {
    "editable": true
   },
   "source": [
    "$$\n",
    "\\mathrm{Bias}[\\tilde{y}]=\\mathbb{E}\\left[\\left(\\boldsymbol{y}-\\mathbb{E}\\left[\\boldsymbol{\\tilde{y}}\\right]\\right)^2\\right],\n",
    "$$\n"
   ]
  },
  {
   "cell_type": "markdown",
   "id": "737c2819",
   "metadata": {
    "editable": true
   },
   "source": [
    "and\n"
   ]
  },
  {
   "cell_type": "markdown",
   "id": "41ef92ef",
   "metadata": {
    "editable": true
   },
   "source": [
    "$$\n",
    "\\mathrm{var}[\\tilde{y}]=\\mathbb{E}\\left[\\left(\\tilde{\\boldsymbol{y}}-\\mathbb{E}\\left[\\boldsymbol{\\tilde{y}}\\right]\\right)^2\\right]=\\frac{1}{n}\\sum_i(\\tilde{y}_i-\\mathbb{E}\\left[\\boldsymbol{\\tilde{y}}\\right])^2.\n",
    "$$\n"
   ]
  },
  {
   "cell_type": "markdown",
   "id": "b948dab0",
   "metadata": {
    "editable": true
   },
   "source": [
    "**Important note**: Since the function $f(x)$ is unknown, in order to be able to evalute the bias, we replace $f(\\boldsymbol{x})$ in the expression for the bias with $\\boldsymbol{y}$.\n",
    "\n",
    "The answer to this exercise should be included in the theory part of\n",
    "the report. This exercise is also part of the weekly exercises of\n",
    "week 38. Explain what the terms mean and discuss their\n",
    "interpretations.\n",
    "\n",
    "Perform then a bias-variance analysis of the Runge function by\n",
    "studying the MSE value as function of the complexity of your model.\n",
    "\n",
    "Discuss the bias and variance trade-off as function\n",
    "of your model complexity (the degree of the polynomial) and the number\n",
    "of data points, and possibly also your training and test data using the **bootstrap** resampling method.\n",
    "You can follow the code example in the jupyter-book at <https://compphysics.github.io/MachineLearning/doc/LectureNotes/_build/html/chapter3.html#the-bias-variance-tradeoff>.\n"
   ]
  },
  {
   "cell_type": "markdown",
   "id": "6a0548bf",
   "metadata": {
    "editable": true
   },
   "source": [
    "### Part h): Cross-validation as resampling techniques, adding more complexity\n",
    "\n",
    "The aim here is to implement another widely popular\n",
    "resampling technique, the so-called cross-validation method.\n",
    "\n",
    "Implement the $k$-fold cross-validation algorithm (feel free to use\n",
    "the functionality of **Scikit-Learn** or write your own code) and\n",
    "evaluate again the MSE function resulting from the test folds.\n",
    "\n",
    "Compare the MSE you get from your cross-validation code with the one\n",
    "you got from your **bootstrap** code from the previous exercise. Comment and interpret your results.\n",
    "\n",
    "In addition to using the ordinary least squares method, you should\n",
    "include both Ridge and Lasso regression in the final analysis.\n"
   ]
  },
  {
   "cell_type": "markdown",
   "id": "df9845cb",
   "metadata": {
    "editable": true
   },
   "source": [
    "## Background literature\n",
    "\n",
    "1. For a discussion and derivation of the variances and mean squared errors using linear regression, see the [Lecture notes on ridge regression by Wessel N. van Wieringen](https://arxiv.org/abs/1509.09169)\n",
    "\n",
    "2. The textbook of [Trevor Hastie, Robert Tibshirani, Jerome H. Friedman, The Elements of Statistical Learning, Springer](https://www.springer.com/gp/book/9780387848570), chapters 3 and 7 are the most relevant ones for the analysis of parts g) and h).\n"
   ]
  },
  {
   "cell_type": "markdown",
   "id": "b9e04791",
   "metadata": {
    "editable": true
   },
   "source": [
    "## Introduction to numerical projects\n",
    "\n",
    "Here follows a brief recipe and recommendation on how to answer the various questions when preparing your answers.\n",
    "\n",
    "- Give a short description of the nature of the problem and the eventual numerical methods you have used.\n",
    "\n",
    "- Describe the algorithm you have used and/or developed. Here you may find it convenient to use pseudocoding. In many cases you can describe the algorithm in the program itself.\n",
    "\n",
    "- Include the source code of your program. Comment your program properly. You should have the code at your GitHub/GitLab link. You can also place the code in an appendix of your report.\n",
    "\n",
    "- If possible, try to find analytic solutions, or known limits in order to test your program when developing the code.\n",
    "\n",
    "- Include your results either in figure form or in a table. Remember to label your results. All tables and figures should have relevant captions and labels on the axes.\n",
    "\n",
    "- Try to evaluate the reliabilty and numerical stability/precision of your results. If possible, include a qualitative and/or quantitative discussion of the numerical stability, eventual loss of precision etc.\n",
    "\n",
    "- Try to give an interpretation of you results in your answers to the problems.\n",
    "\n",
    "- Critique: if possible include your comments and reflections about the exercise, whether you felt you learnt something, ideas for improvements and other thoughts you've made when solving the exercise. We wish to keep this course at the interactive level and your comments can help us improve it.\n",
    "\n",
    "- Try to establish a practice where you log your work at the computerlab. You may find such a logbook very handy at later stages in your work, especially when you don't properly remember what a previous test version of your program did. Here you could also record the time spent on solving the exercise, various algorithms you may have tested or other topics which you feel worthy of mentioning.\n"
   ]
  },
  {
   "cell_type": "markdown",
   "id": "3fab6237",
   "metadata": {
    "editable": true
   },
   "source": [
    "## Format for electronic delivery of report and programs\n",
    "\n",
    "The preferred format for the report is a PDF file. You can also use DOC or postscript formats or as an ipython notebook file. As programming language we prefer that you choose between C/C++, Fortran2008, Julia or Python. The following prescription should be followed when preparing the report:\n",
    "\n",
    "- Use Canvas to hand in your projects, log in at <https://www.uio.no/english/services/it/education/canvas/> with your normal UiO username and password.\n",
    "\n",
    "- Upload **only** the report file or the link to your GitHub/GitLab or similar typo of repos! For the source code file(s) you have developed please provide us with your link to your GitHub/GitLab or similar domain. The report file should include all of your discussions and a list of the codes you have developed. Do not include library files which are available at the course homepage, unless you have made specific changes to them.\n",
    "\n",
    "- In your GitHub/GitLab or similar repository, please include a folder which contains selected results. These can be in the form of output from your code for a selected set of runs and input parameters.\n",
    "\n",
    "Finally,\n",
    "we encourage you to collaborate. Optimal working groups consist of\n",
    "2-3 students. You can then hand in a common report.\n"
   ]
  },
  {
   "cell_type": "markdown",
   "id": "3388eb60",
   "metadata": {
    "editable": true
   },
   "source": [
    "## Software and needed installations\n",
    "\n",
    "If you have Python installed (we recommend Python3) and you feel pretty familiar with installing different packages,\n",
    "we recommend that you install the following Python packages via **pip** as\n",
    "\n",
    "1. pip install numpy scipy matplotlib ipython scikit-learn tensorflow sympy pandas pillow\n",
    "\n",
    "For Python3, replace **pip** with **pip3**.\n",
    "\n",
    "See below for a discussion of **tensorflow** and **scikit-learn**.\n",
    "\n",
    "For OSX users we recommend also, after having installed Xcode, to install **brew**. Brew allows\n",
    "for a seamless installation of additional software via for example\n",
    "\n",
    "1. brew install python3\n",
    "\n",
    "For Linux users, with its variety of distributions like for example the widely popular Ubuntu distribution\n",
    "you can use **pip** as well and simply install Python as\n",
    "\n",
    "1. sudo apt-get install python3 (or python for python2.7)\n",
    "\n",
    "etc etc.\n",
    "\n",
    "If you don't want to install various Python packages with their dependencies separately, we recommend two widely used distrubutions which set up all relevant dependencies for Python, namely\n",
    "\n",
    "1. [Anaconda](https://docs.anaconda.com/) Anaconda is an open source distribution of the Python and R programming languages for large-scale data processing, predictive analytics, and scientific computing, that aims to simplify package management and deployment. Package versions are managed by the package management system **conda**\n",
    "\n",
    "2. [Enthought canopy](https://www.enthought.com/product/canopy/) is a Python distribution for scientific and analytic computing distribution and analysis environment, available for free and under a commercial license.\n",
    "\n",
    "Popular software packages written in Python for ML are\n",
    "\n",
    "- [Scikit-learn](http://scikit-learn.org/stable/),\n",
    "\n",
    "- [Tensorflow](https://www.tensorflow.org/),\n",
    "\n",
    "- [PyTorch](http://pytorch.org/) and\n",
    "\n",
    "- [Keras](https://keras.io/).\n",
    "\n",
    "These are all freely available at their respective GitHub sites. They\n",
    "encompass communities of developers in the thousands or more. And the number\n",
    "of code developers and contributors keeps increasing.\n"
   ]
  }
 ],
 "metadata": {
  "kernelspec": {
   "display_name": "base",
   "language": "python",
   "name": "python3"
  },
  "language_info": {
   "codemirror_mode": {
    "name": "ipython",
    "version": 3
   },
   "file_extension": ".py",
   "mimetype": "text/x-python",
   "name": "python",
   "nbconvert_exporter": "python",
   "pygments_lexer": "ipython3",
   "version": "3.13.5"
  }
 },
 "nbformat": 4,
 "nbformat_minor": 5
}
