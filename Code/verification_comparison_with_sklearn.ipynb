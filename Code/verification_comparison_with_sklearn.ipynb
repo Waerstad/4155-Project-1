{
 "cells": [
  {
   "cell_type": "code",
   "execution_count": 1,
   "id": "f9f50117",
   "metadata": {},
   "outputs": [],
   "source": [
    "import sklearn as skl\n",
    "from sklearn.linear_model import LinearRegression\n",
    "import sklearn.linear_model as sklinear\n",
    "import numpy as np\n",
    "import matplotlib.pyplot as plt\n",
    "import matplotlib as mpl\n",
    "\n",
    "from OLS import OLS\n",
    "from Ridge import Ridge\n",
    "from LASSO import LASSO\n",
    "from functions import Polynomial_Features"
   ]
  },
  {
   "cell_type": "markdown",
   "id": "2bb5cbda",
   "metadata": {},
   "source": [
    "### Comparing own code with sklearn"
   ]
  },
  {
   "cell_type": "code",
   "execution_count": 4,
   "id": "86429f21",
   "metadata": {},
   "outputs": [
    {
     "name": "stdout",
     "output_type": "stream",
     "text": [
      "OLS mean:  -2.2300615016681935e-11\n",
      "OLS  var:  6.575702584228524e-21\n",
      "OLS  max:  1.5454975529121912e-09\n",
      "\n",
      "\n",
      "Ridge mean:  -1.064557831115214e-12\n",
      "Ridge  var:  5.223175549104386e-22\n",
      "Ridge  max:  6.362395055248271e-10\n"
     ]
    },
    {
     "data": {
      "text/plain": [
       "Text(0.5, 0, 'MSE difference')"
      ]
     },
     "execution_count": 4,
     "metadata": {},
     "output_type": "execute_result"
    },
    {
     "data": {
      "image/png": "[encoded data removed]",
      "text/plain": [
       "<Figure size 640x480 with 1 Axes>"
      ]
     },
     "metadata": {},
     "output_type": "display_data"
    }
   ],
   "source": [
    "np.random.seed(2025)\n",
    "\n",
    "num_runs = 1000 # number of runs\n",
    "num_points = 100\n",
    "deg_max = 15\n",
    "\n",
    "ridge_param = 0.01\n",
    "\n",
    "#plotting\n",
    "n_bins = 50\n",
    "\n",
    "#random degrees\n",
    "degs = np.random.randint(1, deg_max, size = num_runs)\n",
    "\n",
    "# random x values\n",
    "x = np.random.uniform(-1,1, num_points)\n",
    "X = Polynomial_Features(x,deg_max)\n",
    "\n",
    "mse_diff_ols = np.zeros(num_runs)\n",
    "mse_diff_ridge = np.zeros(num_runs)\n",
    "\n",
    "for i, d in enumerate(degs):\n",
    "    Xd = X[:,:d]\n",
    "    # random polynomial\n",
    "    coeffs = np.random.uniform(-50,50, d)\n",
    "    y = Xd @ coeffs\n",
    "    \n",
    "    Xd_tr, Xd_test, y_tr, y_test = skl.model_selection.train_test_split(X, y, test_size=0.2)\n",
    "    # Sklearn models\n",
    "    scaler = skl.preprocessing.StandardScaler()\n",
    "    scaler.fit(Xd_tr)\n",
    "    \n",
    "    Xd_tr_scaled = scaler.transform(Xd_tr)\n",
    "    Xd_test_scaled = scaler.transform(Xd_test)\n",
    "    \n",
    "    y_offset = y_tr.mean()\n",
    "    y_tr_centered = y_tr - y_offset\n",
    "    \n",
    "    # OLS\n",
    "    \n",
    "    sklmodel = LinearRegression(fit_intercept=False)\n",
    "    sklmodel.fit(Xd_tr_scaled, y_tr_centered)\n",
    "    \n",
    "    skpredict = sklmodel.predict(Xd_test_scaled) + y_offset\n",
    "    \n",
    "    ownmodel = OLS(\"analytic\")\n",
    "    ownparams, _, _ = ownmodel.fit(Xd_tr_scaled, y_tr_centered)\n",
    "    \n",
    "    ownpredict = Xd_test_scaled @ ownparams + y_offset\n",
    "    \n",
    "    skmse_ols = skl.metrics.mean_squared_error(y_test, skpredict)\n",
    "    ownmse_ols = skl.metrics.mean_squared_error(y_test, ownpredict)\n",
    "    \n",
    "    mse_diff_ols[i] = skmse_ols-ownmse_ols\n",
    "    \n",
    "    # Ridge\n",
    "    \n",
    "    sklmodel = sklinear.Ridge(fit_intercept=False, alpha=ridge_param)\n",
    "    sklmodel.fit(Xd_tr_scaled, y_tr_centered)\n",
    "    \n",
    "    skpredict = sklmodel.predict(Xd_test_scaled) + y_offset\n",
    "    \n",
    "    ownmodel = Ridge(\"analytic\", llambda = ridge_param)\n",
    "    ownparams, _, _ = ownmodel.fit(Xd_tr_scaled, y_tr_centered)\n",
    "    \n",
    "    ownpredict = Xd_test_scaled @ ownparams + y_offset\n",
    "    \n",
    "    skmse_ridge = skl.metrics.mean_squared_error(y_test, skpredict)\n",
    "    ownmse_ridge = skl.metrics.mean_squared_error(y_test, ownpredict)\n",
    "    \n",
    "    mse_diff_ridge[i] = skmse_ridge-ownmse_ridge\n",
    "\n",
    "mse_diffs=[mse_diff_ols, mse_diff_ridge]\n",
    "print(\"OLS mean: \", np.mean(mse_diff_ols))\n",
    "print(\"OLS  var: \", np.var(mse_diff_ols))\n",
    "print(\"OLS  max: \", np.max(np.abs(mse_diff_ols)))\n",
    "print(\"\\n\")\n",
    "print(\"Ridge mean: \",np.mean(mse_diff_ridge))\n",
    "print(\"Ridge  var: \", np.var(mse_diff_ridge))\n",
    "print(\"Ridge  max: \", np.max(np.abs(mse_diff_ridge)))\n",
    "#plt.hist(mse_diff_ols, n_bins, alpha=0.5, label=\"OLS\")\n",
    "plt.hist(mse_diffs, n_bins, alpha=0.5, label = [\"OLS\", \"Ridge\"])\n",
    "#plt.hist(mse_diff_ridge, n_bins, alpha=0.5)\n",
    "plt.ylabel(\"Number of observations\")\n",
    "plt.xlabel(\"MSE difference\")\n",
    "    "
   ]
  },
  {
   "cell_type": "code",
   "execution_count": null,
   "id": "e57f046a",
   "metadata": {},
   "outputs": [],
   "source": []
  }
 ],
 "metadata": {
  "kernelspec": {
   "display_name": "Python 3 (ipykernel)",
   "language": "python",
   "name": "python3"
  },
  "language_info": {
   "codemirror_mode": {
    "name": "ipython",
    "version": 3
   },
   "file_extension": ".py",
   "mimetype": "text/x-python",
   "name": "python",
   "nbconvert_exporter": "python",
   "pygments_lexer": "ipython3",
   "version": "3.12.3"
  }
 },
 "nbformat": 4,
 "nbformat_minor": 5
}
